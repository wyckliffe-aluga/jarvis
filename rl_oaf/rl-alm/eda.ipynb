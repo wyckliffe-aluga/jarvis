{
 "cells": [
  {
   "cell_type": "code",
   "execution_count": 1,
   "metadata": {},
   "outputs": [],
   "source": [
    "import pandas as pd "
   ]
  },
  {
   "cell_type": "code",
   "execution_count": 8,
   "metadata": {},
   "outputs": [],
   "source": [
    "loan = pd.read_csv('loan_list.csv')\n",
    "deposit = pd.read_csv('deposit_list.csv')\n",
    "log = pd.read_csv('data.txt')"
   ]
  },
  {
   "cell_type": "code",
   "execution_count": 5,
   "metadata": {},
   "outputs": [
    {
     "data": {
      "text/html": [
       "<div>\n",
       "<style scoped>\n",
       "    .dataframe tbody tr th:only-of-type {\n",
       "        vertical-align: middle;\n",
       "    }\n",
       "\n",
       "    .dataframe tbody tr th {\n",
       "        vertical-align: top;\n",
       "    }\n",
       "\n",
       "    .dataframe thead th {\n",
       "        text-align: right;\n",
       "    }\n",
       "</style>\n",
       "<table border=\"1\" class=\"dataframe\">\n",
       "  <thead>\n",
       "    <tr style=\"text-align: right;\">\n",
       "      <th></th>\n",
       "      <th>Client_ID</th>\n",
       "      <th>Loan_Amt</th>\n",
       "      <th>Start_Date</th>\n",
       "      <th>Duration_Day</th>\n",
       "      <th>Maturity_Date</th>\n",
       "      <th>Pricing</th>\n",
       "    </tr>\n",
       "  </thead>\n",
       "  <tbody>\n",
       "    <tr>\n",
       "      <th>0</th>\n",
       "      <td>1</td>\n",
       "      <td>82.55</td>\n",
       "      <td>01/01/18</td>\n",
       "      <td>5</td>\n",
       "      <td>01/06/18</td>\n",
       "      <td>1.27</td>\n",
       "    </tr>\n",
       "    <tr>\n",
       "      <th>1</th>\n",
       "      <td>2</td>\n",
       "      <td>43.00</td>\n",
       "      <td>01/02/18</td>\n",
       "      <td>29</td>\n",
       "      <td>01/31/18</td>\n",
       "      <td>1.58</td>\n",
       "    </tr>\n",
       "    <tr>\n",
       "      <th>2</th>\n",
       "      <td>3</td>\n",
       "      <td>14.34</td>\n",
       "      <td>01/02/18</td>\n",
       "      <td>90</td>\n",
       "      <td>04/02/18</td>\n",
       "      <td>2.21</td>\n",
       "    </tr>\n",
       "    <tr>\n",
       "      <th>3</th>\n",
       "      <td>4</td>\n",
       "      <td>41.20</td>\n",
       "      <td>01/03/18</td>\n",
       "      <td>30</td>\n",
       "      <td>02/02/18</td>\n",
       "      <td>1.29</td>\n",
       "    </tr>\n",
       "    <tr>\n",
       "      <th>4</th>\n",
       "      <td>5</td>\n",
       "      <td>65.11</td>\n",
       "      <td>01/03/18</td>\n",
       "      <td>5</td>\n",
       "      <td>01/08/18</td>\n",
       "      <td>1.20</td>\n",
       "    </tr>\n",
       "  </tbody>\n",
       "</table>\n",
       "</div>"
      ],
      "text/plain": [
       "   Client_ID  Loan_Amt Start_Date  Duration_Day Maturity_Date  Pricing\n",
       "0          1     82.55   01/01/18             5      01/06/18     1.27\n",
       "1          2     43.00   01/02/18            29      01/31/18     1.58\n",
       "2          3     14.34   01/02/18            90      04/02/18     2.21\n",
       "3          4     41.20   01/03/18            30      02/02/18     1.29\n",
       "4          5     65.11   01/03/18             5      01/08/18     1.20"
      ]
     },
     "execution_count": 5,
     "metadata": {},
     "output_type": "execute_result"
    }
   ],
   "source": [
    "loan.head()"
   ]
  },
  {
   "cell_type": "code",
   "execution_count": 21,
   "metadata": {},
   "outputs": [
    {
     "data": {
      "text/plain": [
       "<AxesSubplot:>"
      ]
     },
     "execution_count": 21,
     "metadata": {},
     "output_type": "execute_result"
    },
    {
     "data": {
      "image/png": "[encoded data removed]",
      "text/plain": [
       "<Figure size 432x288 with 1 Axes>"
      ]
     },
     "metadata": {
      "needs_background": "light"
     },
     "output_type": "display_data"
    }
   ],
   "source": [
    "deposit.plot()"
   ]
  },
  {
   "cell_type": "code",
   "execution_count": 9,
   "metadata": {},
   "outputs": [
    {
     "data": {
      "text/html": [
       "<div>\n",
       "<style scoped>\n",
       "    .dataframe tbody tr th:only-of-type {\n",
       "        vertical-align: middle;\n",
       "    }\n",
       "\n",
       "    .dataframe tbody tr th {\n",
       "        vertical-align: top;\n",
       "    }\n",
       "\n",
       "    .dataframe thead th {\n",
       "        text-align: right;\n",
       "    }\n",
       "</style>\n",
       "<table border=\"1\" class=\"dataframe\">\n",
       "  <thead>\n",
       "    <tr style=\"text-align: right;\">\n",
       "      <th></th>\n",
       "      <th>****************summary run:0 day 0****************\\tpred_cum_PnL:[-266.02634]\\tactual_cum_PnL:-13.786314370831768\\tpred_self_funding_target:[-258.828]\\tactual_cum_PnL:0.12995798576946768\\tloan os:3425.03\\tdeposit os:445.10999999999996\\tcum income earned -13.774762985279775\\tincome earned:-7.511184826735524\\tmkt loan pricing:{0: -76.72038</th>\n",
       "      <th>1: -44.166855</th>\n",
       "      <th>2: -167.3679</th>\n",
       "      <th>5: -187.32845</th>\n",
       "      <th>7: 332.8318</th>\n",
       "      <th>10: 232.57045</th>\n",
       "      <th>14: -93.88043</th>\n",
       "      <th>28: 44.107582</th>\n",
       "      <th>29: -120.95863</th>\n",
       "      <th>30: -71.30374</th>\n",
       "      <th>...</th>\n",
       "      <th>10: 0.0</th>\n",
       "      <th>14: 0.0</th>\n",
       "      <th>28: 0.0</th>\n",
       "      <th>29: 0.0</th>\n",
       "      <th>30: 0.0</th>\n",
       "      <th>31: 0.0</th>\n",
       "      <th>60: 0.0</th>\n",
       "      <th>90: 0.0</th>\n",
       "      <th>180: 0.0</th>\n",
       "      <th>360: 0}</th>\n",
       "    </tr>\n",
       "  </thead>\n",
       "  <tbody>\n",
       "    <tr>\n",
       "      <th>0</th>\n",
       "      <td>****************summary run:0 day 1***********...</td>\n",
       "      <td>1: -44.166855</td>\n",
       "      <td>2: -167.3679</td>\n",
       "      <td>5: -187.32845</td>\n",
       "      <td>7: 332.8318</td>\n",
       "      <td>10: 232.57045</td>\n",
       "      <td>14: -93.88043</td>\n",
       "      <td>28: 44.107582</td>\n",
       "      <td>29: -120.95863</td>\n",
       "      <td>30: -71.30374</td>\n",
       "      <td>...</td>\n",
       "      <td>10: 1.0</td>\n",
       "      <td>14: 1.0</td>\n",
       "      <td>28: 0.0</td>\n",
       "      <td>29: 0.0</td>\n",
       "      <td>30: 1.0</td>\n",
       "      <td>31: 1.0</td>\n",
       "      <td>60: 0.0</td>\n",
       "      <td>90: 1.0</td>\n",
       "      <td>180: 1.0</td>\n",
       "      <td>360: 0.07577561024795586}</td>\n",
       "    </tr>\n",
       "    <tr>\n",
       "      <th>1</th>\n",
       "      <td>****************summary run:0 day 2***********...</td>\n",
       "      <td>1: -44.166855</td>\n",
       "      <td>2: -167.3679</td>\n",
       "      <td>5: -187.32845</td>\n",
       "      <td>7: 332.8318</td>\n",
       "      <td>10: 232.57045</td>\n",
       "      <td>14: -93.88043</td>\n",
       "      <td>28: 44.107582</td>\n",
       "      <td>29: -120.95863</td>\n",
       "      <td>30: -71.30374</td>\n",
       "      <td>...</td>\n",
       "      <td>10: 1.0</td>\n",
       "      <td>14: 1.0</td>\n",
       "      <td>28: 0.0</td>\n",
       "      <td>29: 0.0</td>\n",
       "      <td>30: 1.0</td>\n",
       "      <td>31: 1.0</td>\n",
       "      <td>60: 0.0</td>\n",
       "      <td>90: 1.0</td>\n",
       "      <td>180: 1.0</td>\n",
       "      <td>360: 0.2061029254715084}</td>\n",
       "    </tr>\n",
       "    <tr>\n",
       "      <th>2</th>\n",
       "      <td>****************summary run:0 day 3***********...</td>\n",
       "      <td>1: -44.166855</td>\n",
       "      <td>2: -167.3679</td>\n",
       "      <td>5: -187.32845</td>\n",
       "      <td>7: 332.8318</td>\n",
       "      <td>10: 232.57045</td>\n",
       "      <td>14: -93.88043</td>\n",
       "      <td>28: 44.107582</td>\n",
       "      <td>29: -120.95863</td>\n",
       "      <td>30: -71.30374</td>\n",
       "      <td>...</td>\n",
       "      <td>10: 1.0</td>\n",
       "      <td>14: 1.0</td>\n",
       "      <td>28: 0.0</td>\n",
       "      <td>29: 0.0</td>\n",
       "      <td>30: 1.0</td>\n",
       "      <td>31: 1.0</td>\n",
       "      <td>60: 0.0</td>\n",
       "      <td>90: 1.0</td>\n",
       "      <td>180: 1.0</td>\n",
       "      <td>360: 0.5270147565082764}</td>\n",
       "    </tr>\n",
       "    <tr>\n",
       "      <th>3</th>\n",
       "      <td>****************summary run:0 day 4***********...</td>\n",
       "      <td>1: -44.166855</td>\n",
       "      <td>2: -167.3679</td>\n",
       "      <td>5: -187.32845</td>\n",
       "      <td>7: 332.8318</td>\n",
       "      <td>10: 232.57045</td>\n",
       "      <td>14: -93.88043</td>\n",
       "      <td>28: 44.107582</td>\n",
       "      <td>29: -120.95863</td>\n",
       "      <td>30: -71.30374</td>\n",
       "      <td>...</td>\n",
       "      <td>10: 1.0</td>\n",
       "      <td>14: 1.0</td>\n",
       "      <td>28: 0.0</td>\n",
       "      <td>29: 0.0</td>\n",
       "      <td>30: 1.0</td>\n",
       "      <td>31: 1.0</td>\n",
       "      <td>60: 0.0</td>\n",
       "      <td>90: 1.0</td>\n",
       "      <td>180: 1.0</td>\n",
       "      <td>360: 0.05213915123918056}</td>\n",
       "    </tr>\n",
       "    <tr>\n",
       "      <th>4</th>\n",
       "      <td>****************summary run:0 day 5***********...</td>\n",
       "      <td>1: -44.166855</td>\n",
       "      <td>2: -167.3679</td>\n",
       "      <td>5: -187.32845</td>\n",
       "      <td>7: 332.8318</td>\n",
       "      <td>10: 232.57045</td>\n",
       "      <td>14: -93.88043</td>\n",
       "      <td>28: 44.107582</td>\n",
       "      <td>29: -120.95863</td>\n",
       "      <td>30: -71.30374</td>\n",
       "      <td>...</td>\n",
       "      <td>10: 1.0</td>\n",
       "      <td>14: 1.0</td>\n",
       "      <td>28: 0.0</td>\n",
       "      <td>29: 0.0</td>\n",
       "      <td>30: 1.0</td>\n",
       "      <td>31: 1.0</td>\n",
       "      <td>60: 0.0</td>\n",
       "      <td>90: 1.0</td>\n",
       "      <td>180: 1.0</td>\n",
       "      <td>360: 0.01478529489422322}</td>\n",
       "    </tr>\n",
       "  </tbody>\n",
       "</table>\n",
       "<p>5 rows × 57 columns</p>\n",
       "</div>"
      ],
      "text/plain": [
       "  ****************summary run:0 day 0****************\\tpred_cum_PnL:[-266.02634]\\tactual_cum_PnL:-13.786314370831768\\tpred_self_funding_target:[-258.828]\\tactual_cum_PnL:0.12995798576946768\\tloan os:3425.03\\tdeposit os:445.10999999999996\\tcum income earned -13.774762985279775\\tincome earned:-7.511184826735524\\tmkt loan pricing:{0: -76.72038  \\\n",
       "0  ****************summary run:0 day 1***********...                                                                                                                                                                                                                                                                                                     \n",
       "1  ****************summary run:0 day 2***********...                                                                                                                                                                                                                                                                                                     \n",
       "2  ****************summary run:0 day 3***********...                                                                                                                                                                                                                                                                                                     \n",
       "3  ****************summary run:0 day 4***********...                                                                                                                                                                                                                                                                                                     \n",
       "4  ****************summary run:0 day 5***********...                                                                                                                                                                                                                                                                                                     \n",
       "\n",
       "    1: -44.166855   2: -167.3679   5: -187.32845   7: 332.8318  \\\n",
       "0   1: -44.166855   2: -167.3679   5: -187.32845   7: 332.8318   \n",
       "1   1: -44.166855   2: -167.3679   5: -187.32845   7: 332.8318   \n",
       "2   1: -44.166855   2: -167.3679   5: -187.32845   7: 332.8318   \n",
       "3   1: -44.166855   2: -167.3679   5: -187.32845   7: 332.8318   \n",
       "4   1: -44.166855   2: -167.3679   5: -187.32845   7: 332.8318   \n",
       "\n",
       "    10: 232.57045   14: -93.88043   28: 44.107582   29: -120.95863  \\\n",
       "0   10: 232.57045   14: -93.88043   28: 44.107582   29: -120.95863   \n",
       "1   10: 232.57045   14: -93.88043   28: 44.107582   29: -120.95863   \n",
       "2   10: 232.57045   14: -93.88043   28: 44.107582   29: -120.95863   \n",
       "3   10: 232.57045   14: -93.88043   28: 44.107582   29: -120.95863   \n",
       "4   10: 232.57045   14: -93.88043   28: 44.107582   29: -120.95863   \n",
       "\n",
       "    30: -71.30374  ...   10: 0.0   14: 0.0   28: 0.0   29: 0.0   30: 0.0  \\\n",
       "0   30: -71.30374  ...   10: 1.0   14: 1.0   28: 0.0   29: 0.0   30: 1.0   \n",
       "1   30: -71.30374  ...   10: 1.0   14: 1.0   28: 0.0   29: 0.0   30: 1.0   \n",
       "2   30: -71.30374  ...   10: 1.0   14: 1.0   28: 0.0   29: 0.0   30: 1.0   \n",
       "3   30: -71.30374  ...   10: 1.0   14: 1.0   28: 0.0   29: 0.0   30: 1.0   \n",
       "4   30: -71.30374  ...   10: 1.0   14: 1.0   28: 0.0   29: 0.0   30: 1.0   \n",
       "\n",
       "    31: 0.0   60: 0.0   90: 0.0   180: 0.0                     360: 0}  \n",
       "0   31: 1.0   60: 0.0   90: 1.0   180: 1.0   360: 0.07577561024795586}  \n",
       "1   31: 1.0   60: 0.0   90: 1.0   180: 1.0    360: 0.2061029254715084}  \n",
       "2   31: 1.0   60: 0.0   90: 1.0   180: 1.0    360: 0.5270147565082764}  \n",
       "3   31: 1.0   60: 0.0   90: 1.0   180: 1.0   360: 0.05213915123918056}  \n",
       "4   31: 1.0   60: 0.0   90: 1.0   180: 1.0   360: 0.01478529489422322}  \n",
       "\n",
       "[5 rows x 57 columns]"
      ]
     },
     "execution_count": 9,
     "metadata": {},
     "output_type": "execute_result"
    }
   ],
   "source": [
    "log.head()"
   ]
  },
  {
   "cell_type": "code",
   "execution_count": 60,
   "metadata": {},
   "outputs": [
    {
     "name": "stdout",
     "output_type": "stream",
     "text": [
      "['****************summary run:0 day 319****************\\tpred_cum_PnL:[-4.1099596]\\tactual_cum_PnL:-95.79056558018723\\tpred_self_funding_target:[-15.090388]\\tactual_cum_PnL:0.16507030836892833\\tloan os:63164.59999999997\\tdeposit os:10426.600000000006\\tcum income earned -77.16250296769091\\tincome earned:100.09045128980554\\tmkt loan pricing:{0: -76.72038, 1: -44.166855, 2: -167.3679, 5: -187.32845, 7: 332.8318, 10: 232.57045, 14: -93.88043, 28: 44.107582, 29: -120.95863, 30: -71.30374, 31: 143.8411, 60: -297.52414, 90: 92.59934, 180: -54.104347, 360: -59.85941914093305}\\tloan pricing:{0: 1.0341375000599526, 1: 0.0, 2: 0.0, 5: 0.7271934804559212, 7: 0.9755779164140919, 10: 1.217819059673294, 14: 1.0708608489309923, 28: 0.0, 29: 0.0, 30: 1.333371371083644, 31: 0.9331062561598504, 60: 0.0, 90: 1.1773391950637755, 180: 1.0322140256822716, 360: 0.5043843235980567}\\tcum expense paid:18.628062612496326\\texpense paid:1.458733599810834e-05\\tmkt dep pricing:{0: 0.00292221919394488, 1: 6.050028572622363e-12, 2: 4.853300179645645e-10, 5: 8.530663554983707e-13, 7: 2.919580949734364e-10, 10: 6.892140966758174e-09, 14: 2.722131421454033e-11, 28: 2.905882573015548e-15, 29: 2.5606954363933515e-09, 30: 4.869994730596354e-15, 31: 1.1463629482659034e-05, 60: 6.636834775853796e-13, 90: 1.43251690826637e-07, 180: 0.00016307366007367675, 360: 1.1094361565057792e-05}\\tdep pricing:{0: 1.0, 1: 0.0, 2: 0.0, 5: 1.0, 7: 1.0, 10: 1.0, 14: 1.0, 28: 0.0, 29: 0.0, 30: 1.0, 31: 1.0, 60: 0.0, 90: 1.0, 180: 1.0, 360: 0.43929298520345}']\n"
     ]
    }
   ],
   "source": [
    "dict_ = {}\n",
    "with open('data.txt') as f:\n",
    "    lines = f.readlines()\n",
    "    for line in lines: \n",
    "        field = line.split('\\r')\n",
    "\n",
    "print(field)\n"
   ]
  },
  {
   "cell_type": "code",
   "execution_count": 46,
   "metadata": {},
   "outputs": [],
   "source": [
    "from io import StringIO"
   ]
  },
  {
   "cell_type": "code",
   "execution_count": 61,
   "metadata": {},
   "outputs": [
    {
     "ename": "SyntaxError",
     "evalue": "invalid syntax (<ipython-input-61-1abbbb80a8a0>, line 5)",
     "output_type": "error",
     "traceback": [
      "\u001b[1;36m  File \u001b[1;32m\"<ipython-input-61-1abbbb80a8a0>\"\u001b[1;36m, line \u001b[1;32m5\u001b[0m\n\u001b[1;33m    Split line into a tuple\u001b[0m\n\u001b[1;37m          ^\u001b[0m\n\u001b[1;31mSyntaxError\u001b[0m\u001b[1;31m:\u001b[0m invalid syntax\n"
     ]
    }
   ],
   "source": [
    "a_dictionary = {}\n",
    "a_file = open(\"data.txt\")\n",
    "for line in a_file:\n",
    "    key, value = line.split()\n",
    "Split line into a tuple\n",
    "\n",
    "\n",
    "    a_dictionary[key] = value\n",
    "Add tuple values to dictionary\n",
    "\n",
    "print(a_dictionary)"
   ]
  },
  {
   "cell_type": "code",
   "execution_count": 53,
   "metadata": {},
   "outputs": [
    {
     "data": {
      "text/plain": [
       "['****************summary run:0 day 319****************\\tpred_cum_PnL:[-4.1099596]\\tactual_cum_PnL:-95.79056558018723\\tpred_self_funding_target:[-15.090388]\\tactual_cum_PnL:0.16507030836892833\\tloan os:63164.59999999997\\tdeposit os:10426.600000000006\\tcum income earned -77.16250296769091\\tincome earned:100.09045128980554\\tmkt loan pricing:{0: -76.72038, 1: -44.166855, 2: -167.3679, 5: -187.32845, 7: 332.8318, 10: 232.57045, 14: -93.88043, 28: 44.107582, 29: -120.95863, 30: -71.30374, 31: 143.8411, 60: -297.52414, 90: 92.59934, 180: -54.104347, 360: -59.85941914093305}\\tloan pricing:{0: 1.0341375000599526, 1: 0.0, 2: 0.0, 5: 0.7271934804559212, 7: 0.9755779164140919, 10: 1.217819059673294, 14: 1.0708608489309923, 28: 0.0, 29: 0.0, 30: 1.333371371083644, 31: 0.9331062561598504, 60: 0.0, 90: 1.1773391950637755, 180: 1.0322140256822716, 360: 0.5043843235980567}\\tcum expense paid:18.628062612496326\\texpense paid:1.458733599810834e-05\\tmkt dep pricing:{0: 0.00292221919394488, 1: 6.050028572622363e-12, 2: 4.853300179645645e-10, 5: 8.530663554983707e-13, 7: 2.919580949734364e-10, 10: 6.892140966758174e-09, 14: 2.722131421454033e-11, 28: 2.905882573015548e-15, 29: 2.5606954363933515e-09, 30: 4.869994730596354e-15, 31: 1.1463629482659034e-05, 60: 6.636834775853796e-13, 90: 1.43251690826637e-07, 180: 0.00016307366007367675, 360: 1.1094361565057792e-05}\\tdep pricing:{0: 1.0, 1: 0.0, 2: 0.0, 5: 1.0, 7: 1.0, 10: 1.0, 14: 1.0, 28: 0.0, 29: 0.0, 30: 1.0, 31: 1.0, 60: 0.0, 90: 1.0, 180: 1.0, 360: 0.43929298520345}']"
      ]
     },
     "execution_count": 53,
     "metadata": {},
     "output_type": "execute_result"
    }
   ],
   "source": [
    "lines[-1].split('\\r')\n"
   ]
  },
  {
   "cell_type": "code",
   "execution_count": null,
   "metadata": {},
   "outputs": [],
   "source": []
  },
  {
   "cell_type": "code",
   "execution_count": null,
   "metadata": {},
   "outputs": [],
   "source": []
  }
 ],
 "metadata": {
  "kernelspec": {
   "display_name": "Python 3",
   "language": "python",
   "name": "python3"
  },
  "language_info": {
   "codemirror_mode": {
    "name": "ipython",
    "version": 3
   },
   "file_extension": ".py",
   "mimetype": "text/x-python",
   "name": "python",
   "nbconvert_exporter": "python",
   "pygments_lexer": "ipython3",
   "version": "3.8.5"
  }
 },
 "nbformat": 4,
 "nbformat_minor": 4
}
